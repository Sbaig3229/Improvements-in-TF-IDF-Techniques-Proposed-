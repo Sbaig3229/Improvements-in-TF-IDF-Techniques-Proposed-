{
  "nbformat": 4,
  "nbformat_minor": 0,
  "metadata": {
    "colab": {
      "name": "ASCII_sum.ipynb",
      "provenance": [],
      "collapsed_sections": []
    },
    "kernelspec": {
      "name": "python3",
      "display_name": "Python 3"
    },
    "language_info": {
      "name": "python"
    }
  },
  "cells": [
    {
      "cell_type": "markdown",
      "source": [
        "                         **Document Ranking using ASCII code**\n",
        "\n",
        "\n"
      ],
      "metadata": {
        "id": "9SbAnjWwAJmp"
      }
    },
    {
      "cell_type": "markdown",
      "source": [
        "Input text document wise for alloting weight matrix"
      ],
      "metadata": {
        "id": "7Wj7lb18AitW"
      }
    },
    {
      "cell_type": "code",
      "execution_count": null,
      "metadata": {
        "colab": {
          "base_uri": "https://localhost:8080/"
        },
        "id": "2ToxnLW-m0bT",
        "outputId": "769026c1-0f83-46ea-a35f-6b150d97743c"
      },
      "outputs": [
        {
          "output_type": "stream",
          "name": "stdout",
          "text": [
            "[[109, 121, 32, 110, 97, 109, 101, 32, 105, 115, 32, 115, 104, 97, 104, 122, 97, 105, 98, 44, 32, 115, 116, 117, 100, 101, 110, 116, 32, 97, 116, 32, 97, 105, 114, 32, 117, 110, 105, 118, 101, 114, 115, 105, 116, 121], [97, 105, 114, 32, 117, 110, 105, 118, 101, 114, 115, 105, 116, 121]]\n"
          ]
        }
      ],
      "source": [
        "text = [\"My name is Shahzaib, student at air university\" , \"Air University\"]\n",
        "i=0\n",
        "ascii_values=[]\n",
        "for text in text:\n",
        "  text=text.lower()\n",
        "  ascii_value= [ord(character) for character in text]\n",
        "  ascii_values.append(ascii_value)\n",
        "  i=i+1\n",
        "print(ascii_values)"
      ]
    },
    {
      "cell_type": "code",
      "source": [
        "import numpy as np\n",
        "from sklearn.preprocessing import normalize"
      ],
      "metadata": {
        "id": "bMvhDfmSZBrb"
      },
      "execution_count": null,
      "outputs": []
    },
    {
      "cell_type": "code",
      "source": [
        "text1=text.split(\" \")\n",
        "res = []\n",
        "summed = []\n",
        "i=0\n",
        "for ele in text1:\n",
        "    ele=''.join(e for e in text1[i] if e.isalnum())\n",
        "    res.extend(ord(num) for num in ele)\n",
        "    sums=sum(res)\n",
        "    res=[]\n",
        "    summed.append(sums)\n",
        "    sums=0\n",
        "    i=i+1\n",
        "logged_weight=(1+np.log10(summed))\n",
        "normalized_weight = logged_weight / np.linalg.norm(logged_weight)\n",
        "print(normalized_weight)"
      ],
      "metadata": {
        "colab": {
          "base_uri": "https://localhost:8080/"
        },
        "id": "Gc0YDurM8nNM",
        "outputId": "5acc09c3-e4cb-4276-8aba-b5b6d6444e07"
      },
      "execution_count": null,
      "outputs": [
        {
          "output_type": "stream",
          "name": "stdout",
          "text": [
            "[0.32676428 0.35188189 0.32488779 0.38154539 0.37804513 0.32352278\n",
            " 0.34017409 0.39366452]\n"
          ]
        }
      ]
    },
    {
      "cell_type": "code",
      "source": [
        "def freq(str):\n",
        "    fre=[]\n",
        "    str_list = str.split()\n",
        "  \n",
        "    unique_words = set(str_list)\n",
        "    print(unique_words)\n",
        "    for words in unique_words :\n",
        "        freq=str_list.count(words)\n",
        "        fre.append(freq)\n",
        "    print(fre)"
      ],
      "metadata": {
        "id": "V5mv77faLS0S"
      },
      "execution_count": null,
      "outputs": []
    },
    {
      "cell_type": "code",
      "source": [
        "freq(text)"
      ],
      "metadata": {
        "colab": {
          "base_uri": "https://localhost:8080/"
        },
        "id": "qcdqKPw6LU9G",
        "outputId": "7ef84199-4281-45d6-bb03-19c7697c2124"
      },
      "execution_count": null,
      "outputs": [
        {
          "output_type": "stream",
          "name": "stdout",
          "text": [
            "{'my', 'is', 'name', 'air', 'student', 'university', 'at', 'shahzaib,'}\n",
            "[1, 1, 1, 1, 1, 1, 1, 1]\n"
          ]
        }
      ]
    },
    {
      "cell_type": "code",
      "source": [
        ""
      ],
      "metadata": {
        "id": "WO_n1LtcLhje"
      },
      "execution_count": null,
      "outputs": []
    },
    {
      "cell_type": "code",
      "source": [
        "#del sum"
      ],
      "metadata": {
        "id": "k3mGwu9CtPPE"
      },
      "execution_count": null,
      "outputs": []
    },
    {
      "cell_type": "code",
      "source": [
        "from sklearn.feature_extraction.text import TfidfVectorizer\n",
        "\n",
        "vectorizer = TfidfVectorizer()\n",
        "\n",
        "corpus = [text]\n",
        "\n",
        "X = vectorizer.fit_transform(corpus)\n",
        "\n",
        "print(vectorizer.get_feature_names_out())\n",
        "print(X.toarray())"
      ],
      "metadata": {
        "colab": {
          "base_uri": "https://localhost:8080/"
        },
        "id": "gWOn5wQYBQyi",
        "outputId": "fb980e52-2e4e-45d4-b99e-e2f2219647a1"
      },
      "execution_count": null,
      "outputs": [
        {
          "output_type": "stream",
          "name": "stdout",
          "text": [
            "['air' 'at' 'is' 'my' 'name' 'shahzaib' 'student' 'university']\n",
            "[[0.35355339 0.35355339 0.35355339 0.35355339 0.35355339 0.35355339\n",
            "  0.35355339 0.35355339]]\n"
          ]
        }
      ]
    }
  ]
}